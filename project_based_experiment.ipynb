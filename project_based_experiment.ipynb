{
  "nbformat": 4,
  "nbformat_minor": 0,
  "metadata": {
    "colab": {
      "provenance": [],
      "authorship_tag": "ABX9TyMMvkRNW9/7Z2IcWkbiFezv",
      "include_colab_link": true
    },
    "kernelspec": {
      "name": "python3",
      "display_name": "Python 3"
    },
    "language_info": {
      "name": "python"
    }
  },
  "cells": [
    {
      "cell_type": "markdown",
      "metadata": {
        "id": "view-in-github",
        "colab_type": "text"
      },
      "source": [
        "<a href=\"https://colab.research.google.com/github/anto-richard/Project-Based-Experiment-AAI/blob/main/project_based_experiment.ipynb\" target=\"_parent\"><img src=\"https://colab.research.google.com/assets/colab-badge.svg\" alt=\"Open In Colab\"/></a>"
      ]
    },
    {
      "cell_type": "code",
      "execution_count": 2,
      "metadata": {
        "colab": {
          "base_uri": "https://localhost:8080/"
        },
        "id": "TY3zII0JTYO-",
        "outputId": "bf4e2123-5a5c-41e2-dee5-6c60706bc9fb"
      },
      "outputs": [
        {
          "output_type": "stream",
          "name": "stdout",
          "text": [
            "Sentiment Analysis Results:\n",
            "Positive sentiment: 732\n",
            "Negative sentiment: 85\n",
            "Neutral sentiment: 183\n",
            "Occurrences of 'Love': 393\n"
          ]
        }
      ],
      "source": [
        "import pandas as pd\n",
        "from textblob import TextBlob\n",
        "\n",
        "# Read data from CSV file :\n",
        "\n",
        "data = pd.read_csv(\"fb_sentiment.csv\")\n",
        "\n",
        "# Given name to count occurrences :\n",
        "\n",
        "given_name = \"Love\"\n",
        "\n",
        "# Initialize counters for sentiment analysis :\n",
        "\n",
        "sentiment_counts = {'positive': 0, 'negative': 0, 'neutral': 0}\n",
        "\n",
        "# Initialize and Count occurrences for the given name :\n",
        "\n",
        "name_occurrences = sum(post.lower().count(given_name.lower()) for post in data['FBPost'])\n",
        "\n",
        "# Perform sentiment analysis and count occurrences of the given name :\n",
        "\n",
        "for post in data['FBPost']:\n",
        "    polarity = TextBlob(post).sentiment.polarity\n",
        "    sentiment_counts['positive'] += polarity > 0\n",
        "    sentiment_counts['negative'] += polarity < 0\n",
        "    sentiment_counts['neutral'] += polarity == 0\n",
        "\n",
        "# Print sentiment analysis results :\n",
        "\n",
        "print(\"Sentiment Analysis Results:\")\n",
        "for sentiment, count in sentiment_counts.items():\n",
        "    print(f\"{sentiment.capitalize()} sentiment: {count}\")\n",
        "\n",
        "# Print occurrences of the given name :\n",
        "\n",
        "print(f\"Occurrences of '{given_name}': {name_occurrences}\")\n"
      ]
    }
  ]
}